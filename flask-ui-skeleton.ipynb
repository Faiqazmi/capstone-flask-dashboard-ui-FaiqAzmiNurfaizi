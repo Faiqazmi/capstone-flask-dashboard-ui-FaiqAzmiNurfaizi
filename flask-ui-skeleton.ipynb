{
 "cells": [
  {
   "cell_type": "markdown",
   "metadata": {},
   "source": [
    "# Capstone Project Flask UI"
   ]
  },
  {
   "cell_type": "markdown",
   "metadata": {},
   "source": [
    "Pada capstone ini anda diminta untuk membangun sebuah Flask UI sederhana yang berisi beberapa tampilan plot dari skeleton yang sudah disediakan dan satu plot tambahan berdasarkan analisis anda.\n",
    "\n",
    "File ini dapat dimanfaatkan untuk membantu anda dalam proses wrangling dan visualization. Apabila proses wrangling sudah tepat dan hasil visualisasi sudah sesuai dengan ketentuan, anda dapat memindahkan kembali kode program yang sudah anda lengkapi ke dalam file `app.py`."
   ]
  },
  {
   "cell_type": "markdown",
   "metadata": {},
   "source": [
    "## Create Virtual Enviroment "
   ]
  },
  {
   "cell_type": "markdown",
   "metadata": {},
   "source": [
    "a. Created virtual environment called \"capstone-flask\"\n",
    "\n",
    "Hal pertama yang harus dilakukan adalah melakukan pengaturan environment conda. Untuk menyiapkan conda environment dan kernel, silahkan gunakan command berikut:\n",
    "\n",
    "```\n",
    "conda create -n <ENV_NAME> python=3.10\n",
    "conda activate <ENV_NAME>\n",
    "\n",
    "conda install ipykernel\n",
    "python -m ipykernel install --user --name <ENV_NAME>\n",
    "```\n",
    "\n",
    "b. Install packages: pandas, flask, matplotlib, dan numpy\n",
    "\n",
    "Seluruh dependecies telah di-export ke dalam file requirements.txt. Oleh karena itu untuk melakukan install packages, Anda dapat menggunakan perintah berikut:\n",
    "\n",
    "```\n",
    "pip install -r requirements.txt --user\n",
    "```"
   ]
  },
  {
   "cell_type": "markdown",
   "metadata": {},
   "source": [
    "## Data Preprocessing"
   ]
  },
  {
   "cell_type": "markdown",
   "metadata": {},
   "source": [
    "**Import library**"
   ]
  },
  {
   "cell_type": "code",
   "execution_count": 83,
   "metadata": {
    "ExecuteTime": {
     "end_time": "2021-02-02T09:56:05.789070Z",
     "start_time": "2021-02-02T09:56:03.554294Z"
    }
   },
   "outputs": [],
   "source": [
    "from flask import Flask, render_template\n",
    "import pandas as pd\n",
    "import numpy as np\n",
    "import matplotlib.pyplot as plt\n",
    "from io import BytesIO\n",
    "import base64"
   ]
  },
  {
   "cell_type": "markdown",
   "metadata": {},
   "source": [
    "**Load data**\n",
    "\n",
    "Bacalah file `googleplaystore.csv` data dan simpan ke objek dataframe dengan nama playstore"
   ]
  },
  {
   "cell_type": "code",
   "execution_count": 84,
   "metadata": {
    "ExecuteTime": {
     "end_time": "2021-02-02T09:59:28.086254Z",
     "start_time": "2021-02-02T09:59:28.032673Z"
    }
   },
   "outputs": [],
   "source": [
    "playstore = pd.read_csv('D:\\Algoritma Data Science Academy\\Kelas Beasiswa Full-Stack Data Science\\Data Analytics Specialization\\Capstone Project I\\Main\\data\\googleplaystore.csv')"
   ]
  },
  {
   "cell_type": "code",
   "execution_count": 85,
   "metadata": {},
   "outputs": [
    {
     "data": {
      "text/html": [
       "<div>\n",
       "<style scoped>\n",
       "    .dataframe tbody tr th:only-of-type {\n",
       "        vertical-align: middle;\n",
       "    }\n",
       "\n",
       "    .dataframe tbody tr th {\n",
       "        vertical-align: top;\n",
       "    }\n",
       "\n",
       "    .dataframe thead th {\n",
       "        text-align: right;\n",
       "    }\n",
       "</style>\n",
       "<table border=\"1\" class=\"dataframe\">\n",
       "  <thead>\n",
       "    <tr style=\"text-align: right;\">\n",
       "      <th></th>\n",
       "      <th>App</th>\n",
       "      <th>Category</th>\n",
       "      <th>Rating</th>\n",
       "      <th>Reviews</th>\n",
       "      <th>Size</th>\n",
       "      <th>Installs</th>\n",
       "      <th>Type</th>\n",
       "      <th>Price</th>\n",
       "      <th>Content Rating</th>\n",
       "      <th>Genres</th>\n",
       "      <th>Last Updated</th>\n",
       "      <th>Current Ver</th>\n",
       "      <th>Android Ver</th>\n",
       "    </tr>\n",
       "  </thead>\n",
       "  <tbody>\n",
       "    <tr>\n",
       "      <th>0</th>\n",
       "      <td>Photo Editor &amp; Candy Camera &amp; Grid &amp; ScrapBook</td>\n",
       "      <td>ART_AND_DESIGN</td>\n",
       "      <td>4.1</td>\n",
       "      <td>159</td>\n",
       "      <td>19M</td>\n",
       "      <td>10,000+</td>\n",
       "      <td>Free</td>\n",
       "      <td>0</td>\n",
       "      <td>Everyone</td>\n",
       "      <td>Art &amp; Design</td>\n",
       "      <td>January 7, 2018</td>\n",
       "      <td>1.0.0</td>\n",
       "      <td>4.0.3 and up</td>\n",
       "    </tr>\n",
       "    <tr>\n",
       "      <th>1</th>\n",
       "      <td>Coloring book moana</td>\n",
       "      <td>ART_AND_DESIGN</td>\n",
       "      <td>3.9</td>\n",
       "      <td>967</td>\n",
       "      <td>14M</td>\n",
       "      <td>500,000+</td>\n",
       "      <td>Free</td>\n",
       "      <td>0</td>\n",
       "      <td>Everyone</td>\n",
       "      <td>Art &amp; Design;Pretend Play</td>\n",
       "      <td>January 15, 2018</td>\n",
       "      <td>2.0.0</td>\n",
       "      <td>4.0.3 and up</td>\n",
       "    </tr>\n",
       "    <tr>\n",
       "      <th>2</th>\n",
       "      <td>U Launcher Lite – FREE Live Cool Themes, Hide ...</td>\n",
       "      <td>ART_AND_DESIGN</td>\n",
       "      <td>4.7</td>\n",
       "      <td>87510</td>\n",
       "      <td>8.7M</td>\n",
       "      <td>5,000,000+</td>\n",
       "      <td>Free</td>\n",
       "      <td>0</td>\n",
       "      <td>Everyone</td>\n",
       "      <td>Art &amp; Design</td>\n",
       "      <td>August 1, 2018</td>\n",
       "      <td>1.2.4</td>\n",
       "      <td>4.0.3 and up</td>\n",
       "    </tr>\n",
       "    <tr>\n",
       "      <th>3</th>\n",
       "      <td>Sketch - Draw &amp; Paint</td>\n",
       "      <td>ART_AND_DESIGN</td>\n",
       "      <td>4.5</td>\n",
       "      <td>215644</td>\n",
       "      <td>25M</td>\n",
       "      <td>50,000,000+</td>\n",
       "      <td>Free</td>\n",
       "      <td>0</td>\n",
       "      <td>Teen</td>\n",
       "      <td>Art &amp; Design</td>\n",
       "      <td>June 8, 2018</td>\n",
       "      <td>Varies with device</td>\n",
       "      <td>4.2 and up</td>\n",
       "    </tr>\n",
       "    <tr>\n",
       "      <th>4</th>\n",
       "      <td>Pixel Draw - Number Art Coloring Book</td>\n",
       "      <td>ART_AND_DESIGN</td>\n",
       "      <td>4.3</td>\n",
       "      <td>967</td>\n",
       "      <td>2.8M</td>\n",
       "      <td>100,000+</td>\n",
       "      <td>Free</td>\n",
       "      <td>0</td>\n",
       "      <td>Everyone</td>\n",
       "      <td>Art &amp; Design;Creativity</td>\n",
       "      <td>June 20, 2018</td>\n",
       "      <td>1.1</td>\n",
       "      <td>4.4 and up</td>\n",
       "    </tr>\n",
       "  </tbody>\n",
       "</table>\n",
       "</div>"
      ],
      "text/plain": [
       "                                                 App        Category  Rating  \\\n",
       "0     Photo Editor & Candy Camera & Grid & ScrapBook  ART_AND_DESIGN     4.1   \n",
       "1                                Coloring book moana  ART_AND_DESIGN     3.9   \n",
       "2  U Launcher Lite – FREE Live Cool Themes, Hide ...  ART_AND_DESIGN     4.7   \n",
       "3                              Sketch - Draw & Paint  ART_AND_DESIGN     4.5   \n",
       "4              Pixel Draw - Number Art Coloring Book  ART_AND_DESIGN     4.3   \n",
       "\n",
       "  Reviews  Size     Installs  Type Price Content Rating  \\\n",
       "0     159   19M      10,000+  Free     0       Everyone   \n",
       "1     967   14M     500,000+  Free     0       Everyone   \n",
       "2   87510  8.7M   5,000,000+  Free     0       Everyone   \n",
       "3  215644   25M  50,000,000+  Free     0           Teen   \n",
       "4     967  2.8M     100,000+  Free     0       Everyone   \n",
       "\n",
       "                      Genres      Last Updated         Current Ver  \\\n",
       "0               Art & Design   January 7, 2018               1.0.0   \n",
       "1  Art & Design;Pretend Play  January 15, 2018               2.0.0   \n",
       "2               Art & Design    August 1, 2018               1.2.4   \n",
       "3               Art & Design      June 8, 2018  Varies with device   \n",
       "4    Art & Design;Creativity     June 20, 2018                 1.1   \n",
       "\n",
       "    Android Ver  \n",
       "0  4.0.3 and up  \n",
       "1  4.0.3 and up  \n",
       "2  4.0.3 and up  \n",
       "3    4.2 and up  \n",
       "4    4.4 and up  "
      ]
     },
     "execution_count": 85,
     "metadata": {},
     "output_type": "execute_result"
    }
   ],
   "source": [
    "# Cek Tampilan Dataset\n",
    "playstore.head(5)"
   ]
  },
  {
   "cell_type": "code",
   "execution_count": 86,
   "metadata": {},
   "outputs": [
    {
     "name": "stdout",
     "output_type": "stream",
     "text": [
      "<class 'pandas.core.frame.DataFrame'>\n",
      "RangeIndex: 10841 entries, 0 to 10840\n",
      "Data columns (total 13 columns):\n",
      " #   Column          Non-Null Count  Dtype  \n",
      "---  ------          --------------  -----  \n",
      " 0   App             10841 non-null  object \n",
      " 1   Category        10841 non-null  object \n",
      " 2   Rating          9367 non-null   float64\n",
      " 3   Reviews         10841 non-null  object \n",
      " 4   Size            10841 non-null  object \n",
      " 5   Installs        10841 non-null  object \n",
      " 6   Type            10840 non-null  object \n",
      " 7   Price           10841 non-null  object \n",
      " 8   Content Rating  10840 non-null  object \n",
      " 9   Genres          10841 non-null  object \n",
      " 10  Last Updated    10841 non-null  object \n",
      " 11  Current Ver     10833 non-null  object \n",
      " 12  Android Ver     10838 non-null  object \n",
      "dtypes: float64(1), object(12)\n",
      "memory usage: 1.1+ MB\n"
     ]
    }
   ],
   "source": [
    "# Cek profile pada dataset\n",
    "playstore.info()"
   ]
  },
  {
   "cell_type": "markdown",
   "metadata": {},
   "source": [
    "**Data Cleansing** "
   ]
  },
  {
   "cell_type": "markdown",
   "metadata": {},
   "source": [
    "**_Task 1:_** Hapus data yang duplikat berdasarkan kolom App, dengan tetap keep data pertama (hint : gunakan parameter subset)"
   ]
  },
  {
   "cell_type": "code",
   "execution_count": 87,
   "metadata": {
    "ExecuteTime": {
     "end_time": "2021-02-02T10:00:43.408513Z",
     "start_time": "2021-02-02T10:00:43.384541Z"
    }
   },
   "outputs": [],
   "source": [
    "playstore.drop_duplicates(subset = 'App', inplace=True) "
   ]
  },
  {
   "cell_type": "markdown",
   "metadata": {},
   "source": [
    "Bagian ini untuk menghapus row 10472 karena nilai data tersebut tidak tersimpan pada kolom yang benar"
   ]
  },
  {
   "cell_type": "code",
   "execution_count": 88,
   "metadata": {
    "ExecuteTime": {
     "end_time": "2021-02-02T10:01:18.760162Z",
     "start_time": "2021-02-02T10:01:18.747974Z"
    }
   },
   "outputs": [],
   "source": [
    "playstore.drop([10472], inplace=True)"
   ]
  },
  {
   "cell_type": "markdown",
   "metadata": {},
   "source": [
    "**_Task 2:_** Cek tipe data kolom Category. Jika masih tersimpan dengan format tipe data yang salah, ubah ke tipe data yang sesuai\n"
   ]
  },
  {
   "cell_type": "code",
   "execution_count": 89,
   "metadata": {
    "ExecuteTime": {
     "end_time": "2021-02-02T10:03:32.164554Z",
     "start_time": "2021-02-02T10:03:32.153250Z"
    }
   },
   "outputs": [],
   "source": [
    "playstore.Category = playstore['Category'].astype('category')"
   ]
  },
  {
   "cell_type": "code",
   "execution_count": 90,
   "metadata": {},
   "outputs": [
    {
     "data": {
      "text/plain": [
       "App                 object\n",
       "Category          category\n",
       "Rating             float64\n",
       "Reviews             object\n",
       "Size                object\n",
       "Installs            object\n",
       "Type                object\n",
       "Price               object\n",
       "Content Rating      object\n",
       "Genres              object\n",
       "Last Updated        object\n",
       "Current Ver         object\n",
       "Android Ver         object\n",
       "dtype: object"
      ]
     },
     "execution_count": 90,
     "metadata": {},
     "output_type": "execute_result"
    }
   ],
   "source": [
    "# cek tipe data kolom 'Category'\n",
    "playstore.dtypes"
   ]
  },
  {
   "cell_type": "markdown",
   "metadata": {},
   "source": [
    "**_Task 3:_** Pada kolom Installs Buang tanda koma(,) dan tanda tambah(+) kemudian ubah tipe data menjadi integer"
   ]
  },
  {
   "cell_type": "code",
   "execution_count": 91,
   "metadata": {},
   "outputs": [
    {
     "data": {
      "text/plain": [
       "0            10,000+\n",
       "1           500,000+\n",
       "2         5,000,000+\n",
       "3        50,000,000+\n",
       "4           100,000+\n",
       "            ...     \n",
       "10836         5,000+\n",
       "10837           100+\n",
       "10838         1,000+\n",
       "10839         1,000+\n",
       "10840    10,000,000+\n",
       "Name: Installs, Length: 9659, dtype: object"
      ]
     },
     "execution_count": 91,
     "metadata": {},
     "output_type": "execute_result"
    }
   ],
   "source": [
    "playstore.Installs"
   ]
  },
  {
   "cell_type": "code",
   "execution_count": 92,
   "metadata": {
    "ExecuteTime": {
     "end_time": "2021-02-02T10:16:20.985521Z",
     "start_time": "2021-02-02T10:16:20.969640Z"
    }
   },
   "outputs": [],
   "source": [
    "playstore.Installs = playstore.Installs.apply(lambda x: x.replace(',',''))\n",
    "playstore.Installs = playstore.Installs.apply(lambda x: x.replace('+',''))\n",
    "playstore.Installs = playstore.Installs.astype(int)"
   ]
  },
  {
   "cell_type": "markdown",
   "metadata": {},
   "source": [
    "Bagian ini untuk merapikan kolom Size, Anda tidak perlu mengubah apapun di bagian ini"
   ]
  },
  {
   "cell_type": "code",
   "execution_count": 93,
   "metadata": {
    "ExecuteTime": {
     "end_time": "2021-02-02T10:17:51.003771Z",
     "start_time": "2021-02-02T10:17:50.934201Z"
    }
   },
   "outputs": [],
   "source": [
    "playstore['Size'].replace('Varies with device', np.nan, inplace = True ) \n",
    "playstore.Size = (playstore.Size.replace(r'[kM]+$', '', regex=True).astype(float) * \\\n",
    "             playstore.Size.str.extract(r'[\\d\\.]+([kM]+)', expand=False)\n",
    "            .fillna(1)\n",
    "            .replace(['k','M'], [10**3, 10**6]).astype(int))\n",
    "playstore['Size'].fillna(playstore.groupby('Category')['Size'].transform('mean'),inplace = True)\n"
   ]
  },
  {
   "cell_type": "markdown",
   "metadata": {},
   "source": [
    "**_Task 4:_** Pada kolom Price, buang karakater $ pada nilai Price lalu ubah tipe datanya menjadi float"
   ]
  },
  {
   "cell_type": "code",
   "execution_count": 94,
   "metadata": {
    "ExecuteTime": {
     "end_time": "2021-02-02T10:17:51.850791Z",
     "start_time": "2021-02-02T10:17:51.831652Z"
    }
   },
   "outputs": [],
   "source": [
    "playstore['Price'] = playstore['Price'].apply(lambda x: x.replace('$', ''))\n",
    "playstore['Price'] = playstore['Price'].astype(float)"
   ]
  },
  {
   "cell_type": "markdown",
   "metadata": {},
   "source": [
    "Ubah tipe data Reviews, Size, Installs ke dalam tipe data integer"
   ]
  },
  {
   "cell_type": "code",
   "execution_count": 95,
   "metadata": {
    "ExecuteTime": {
     "end_time": "2021-02-02T10:17:53.379441Z",
     "start_time": "2021-02-02T10:17:53.359741Z"
    }
   },
   "outputs": [],
   "source": [
    "##code here\n",
    "playstore[['Reviews', 'Size', 'Installs']] = playstore[['Reviews', 'Size', 'Installs']].apply(pd.to_numeric)\n"
   ]
  },
  {
   "cell_type": "markdown",
   "metadata": {},
   "source": [
    "## Data Wrangling"
   ]
  },
  {
   "cell_type": "code",
   "execution_count": 96,
   "metadata": {
    "ExecuteTime": {
     "end_time": "2021-02-02T10:18:50.436751Z",
     "start_time": "2021-02-02T10:18:50.425327Z"
    }
   },
   "outputs": [],
   "source": [
    "df2 = playstore.copy()"
   ]
  },
  {
   "cell_type": "markdown",
   "metadata": {},
   "source": [
    "**_Task 5:_** Dataframe top_category dibuat untuk menyimpan frekuensi aplikasi untuk setiap Category. \n",
    "Gunakan crosstab untuk menghitung frekuensi aplikasi di setiap category kemudian gunakan `Jumlah`\n",
    "sebagai nama kolom dan urutkan nilai frekuensi dari nilai yang paling banyak. Terakhir reset index dari dataframe top_category."
   ]
  },
  {
   "cell_type": "code",
   "execution_count": 97,
   "metadata": {
    "ExecuteTime": {
     "end_time": "2021-02-02T10:22:20.387102Z",
     "start_time": "2021-02-02T10:22:20.334148Z"
    }
   },
   "outputs": [
    {
     "data": {
      "text/html": [
       "<div>\n",
       "<style scoped>\n",
       "    .dataframe tbody tr th:only-of-type {\n",
       "        vertical-align: middle;\n",
       "    }\n",
       "\n",
       "    .dataframe tbody tr th {\n",
       "        vertical-align: top;\n",
       "    }\n",
       "\n",
       "    .dataframe thead th {\n",
       "        text-align: right;\n",
       "    }\n",
       "</style>\n",
       "<table border=\"1\" class=\"dataframe\">\n",
       "  <thead>\n",
       "    <tr style=\"text-align: right;\">\n",
       "      <th>col_0</th>\n",
       "      <th>Category</th>\n",
       "      <th>Jumlah</th>\n",
       "    </tr>\n",
       "  </thead>\n",
       "  <tbody>\n",
       "    <tr>\n",
       "      <th>0</th>\n",
       "      <td>FAMILY</td>\n",
       "      <td>1832</td>\n",
       "    </tr>\n",
       "    <tr>\n",
       "      <th>1</th>\n",
       "      <td>GAME</td>\n",
       "      <td>959</td>\n",
       "    </tr>\n",
       "    <tr>\n",
       "      <th>2</th>\n",
       "      <td>TOOLS</td>\n",
       "      <td>827</td>\n",
       "    </tr>\n",
       "    <tr>\n",
       "      <th>3</th>\n",
       "      <td>BUSINESS</td>\n",
       "      <td>420</td>\n",
       "    </tr>\n",
       "    <tr>\n",
       "      <th>4</th>\n",
       "      <td>MEDICAL</td>\n",
       "      <td>395</td>\n",
       "    </tr>\n",
       "    <tr>\n",
       "      <th>5</th>\n",
       "      <td>PERSONALIZATION</td>\n",
       "      <td>376</td>\n",
       "    </tr>\n",
       "    <tr>\n",
       "      <th>6</th>\n",
       "      <td>PRODUCTIVITY</td>\n",
       "      <td>374</td>\n",
       "    </tr>\n",
       "    <tr>\n",
       "      <th>7</th>\n",
       "      <td>LIFESTYLE</td>\n",
       "      <td>369</td>\n",
       "    </tr>\n",
       "    <tr>\n",
       "      <th>8</th>\n",
       "      <td>FINANCE</td>\n",
       "      <td>345</td>\n",
       "    </tr>\n",
       "    <tr>\n",
       "      <th>9</th>\n",
       "      <td>SPORTS</td>\n",
       "      <td>325</td>\n",
       "    </tr>\n",
       "    <tr>\n",
       "      <th>10</th>\n",
       "      <td>COMMUNICATION</td>\n",
       "      <td>315</td>\n",
       "    </tr>\n",
       "    <tr>\n",
       "      <th>11</th>\n",
       "      <td>HEALTH_AND_FITNESS</td>\n",
       "      <td>288</td>\n",
       "    </tr>\n",
       "    <tr>\n",
       "      <th>12</th>\n",
       "      <td>PHOTOGRAPHY</td>\n",
       "      <td>281</td>\n",
       "    </tr>\n",
       "    <tr>\n",
       "      <th>13</th>\n",
       "      <td>NEWS_AND_MAGAZINES</td>\n",
       "      <td>254</td>\n",
       "    </tr>\n",
       "    <tr>\n",
       "      <th>14</th>\n",
       "      <td>SOCIAL</td>\n",
       "      <td>239</td>\n",
       "    </tr>\n",
       "    <tr>\n",
       "      <th>15</th>\n",
       "      <td>BOOKS_AND_REFERENCE</td>\n",
       "      <td>222</td>\n",
       "    </tr>\n",
       "    <tr>\n",
       "      <th>16</th>\n",
       "      <td>TRAVEL_AND_LOCAL</td>\n",
       "      <td>219</td>\n",
       "    </tr>\n",
       "    <tr>\n",
       "      <th>17</th>\n",
       "      <td>SHOPPING</td>\n",
       "      <td>202</td>\n",
       "    </tr>\n",
       "    <tr>\n",
       "      <th>18</th>\n",
       "      <td>DATING</td>\n",
       "      <td>171</td>\n",
       "    </tr>\n",
       "    <tr>\n",
       "      <th>19</th>\n",
       "      <td>VIDEO_PLAYERS</td>\n",
       "      <td>163</td>\n",
       "    </tr>\n",
       "    <tr>\n",
       "      <th>20</th>\n",
       "      <td>MAPS_AND_NAVIGATION</td>\n",
       "      <td>131</td>\n",
       "    </tr>\n",
       "    <tr>\n",
       "      <th>21</th>\n",
       "      <td>EDUCATION</td>\n",
       "      <td>119</td>\n",
       "    </tr>\n",
       "    <tr>\n",
       "      <th>22</th>\n",
       "      <td>FOOD_AND_DRINK</td>\n",
       "      <td>112</td>\n",
       "    </tr>\n",
       "    <tr>\n",
       "      <th>23</th>\n",
       "      <td>ENTERTAINMENT</td>\n",
       "      <td>102</td>\n",
       "    </tr>\n",
       "    <tr>\n",
       "      <th>24</th>\n",
       "      <td>AUTO_AND_VEHICLES</td>\n",
       "      <td>85</td>\n",
       "    </tr>\n",
       "    <tr>\n",
       "      <th>25</th>\n",
       "      <td>LIBRARIES_AND_DEMO</td>\n",
       "      <td>84</td>\n",
       "    </tr>\n",
       "    <tr>\n",
       "      <th>26</th>\n",
       "      <td>WEATHER</td>\n",
       "      <td>79</td>\n",
       "    </tr>\n",
       "    <tr>\n",
       "      <th>27</th>\n",
       "      <td>HOUSE_AND_HOME</td>\n",
       "      <td>74</td>\n",
       "    </tr>\n",
       "    <tr>\n",
       "      <th>28</th>\n",
       "      <td>EVENTS</td>\n",
       "      <td>64</td>\n",
       "    </tr>\n",
       "    <tr>\n",
       "      <th>29</th>\n",
       "      <td>ART_AND_DESIGN</td>\n",
       "      <td>64</td>\n",
       "    </tr>\n",
       "    <tr>\n",
       "      <th>30</th>\n",
       "      <td>PARENTING</td>\n",
       "      <td>60</td>\n",
       "    </tr>\n",
       "    <tr>\n",
       "      <th>31</th>\n",
       "      <td>COMICS</td>\n",
       "      <td>56</td>\n",
       "    </tr>\n",
       "    <tr>\n",
       "      <th>32</th>\n",
       "      <td>BEAUTY</td>\n",
       "      <td>53</td>\n",
       "    </tr>\n",
       "  </tbody>\n",
       "</table>\n",
       "</div>"
      ],
      "text/plain": [
       "col_0             Category  Jumlah\n",
       "0                   FAMILY    1832\n",
       "1                     GAME     959\n",
       "2                    TOOLS     827\n",
       "3                 BUSINESS     420\n",
       "4                  MEDICAL     395\n",
       "5          PERSONALIZATION     376\n",
       "6             PRODUCTIVITY     374\n",
       "7                LIFESTYLE     369\n",
       "8                  FINANCE     345\n",
       "9                   SPORTS     325\n",
       "10           COMMUNICATION     315\n",
       "11      HEALTH_AND_FITNESS     288\n",
       "12             PHOTOGRAPHY     281\n",
       "13      NEWS_AND_MAGAZINES     254\n",
       "14                  SOCIAL     239\n",
       "15     BOOKS_AND_REFERENCE     222\n",
       "16        TRAVEL_AND_LOCAL     219\n",
       "17                SHOPPING     202\n",
       "18                  DATING     171\n",
       "19           VIDEO_PLAYERS     163\n",
       "20     MAPS_AND_NAVIGATION     131\n",
       "21               EDUCATION     119\n",
       "22          FOOD_AND_DRINK     112\n",
       "23           ENTERTAINMENT     102\n",
       "24       AUTO_AND_VEHICLES      85\n",
       "25      LIBRARIES_AND_DEMO      84\n",
       "26                 WEATHER      79\n",
       "27          HOUSE_AND_HOME      74\n",
       "28                  EVENTS      64\n",
       "29          ART_AND_DESIGN      64\n",
       "30               PARENTING      60\n",
       "31                  COMICS      56\n",
       "32                  BEAUTY      53"
      ]
     },
     "execution_count": 97,
     "metadata": {},
     "output_type": "execute_result"
    }
   ],
   "source": [
    "top_category = pd.crosstab(\n",
    "        index=df2.Category,\n",
    "        columns='Jumlah'\n",
    "        ).reset_index().sort_values('Jumlah', ascending=False).reset_index(drop=True)\n",
    "\n",
    "top_category"
   ]
  },
  {
   "cell_type": "code",
   "execution_count": 98,
   "metadata": {
    "ExecuteTime": {
     "end_time": "2021-02-02T10:24:18.993255Z",
     "start_time": "2021-02-02T10:24:18.969721Z"
    }
   },
   "outputs": [
    {
     "data": {
      "text/html": [
       "<div>\n",
       "<style scoped>\n",
       "    .dataframe tbody tr th:only-of-type {\n",
       "        vertical-align: middle;\n",
       "    }\n",
       "\n",
       "    .dataframe tbody tr th {\n",
       "        vertical-align: top;\n",
       "    }\n",
       "\n",
       "    .dataframe thead th {\n",
       "        text-align: right;\n",
       "    }\n",
       "</style>\n",
       "<table border=\"1\" class=\"dataframe\">\n",
       "  <thead>\n",
       "    <tr style=\"text-align: right;\">\n",
       "      <th>col_0</th>\n",
       "      <th>Category</th>\n",
       "      <th>Jumlah</th>\n",
       "    </tr>\n",
       "  </thead>\n",
       "  <tbody>\n",
       "    <tr>\n",
       "      <th>0</th>\n",
       "      <td>FAMILY</td>\n",
       "      <td>1832</td>\n",
       "    </tr>\n",
       "    <tr>\n",
       "      <th>1</th>\n",
       "      <td>GAME</td>\n",
       "      <td>959</td>\n",
       "    </tr>\n",
       "    <tr>\n",
       "      <th>2</th>\n",
       "      <td>TOOLS</td>\n",
       "      <td>827</td>\n",
       "    </tr>\n",
       "    <tr>\n",
       "      <th>3</th>\n",
       "      <td>BUSINESS</td>\n",
       "      <td>420</td>\n",
       "    </tr>\n",
       "    <tr>\n",
       "      <th>4</th>\n",
       "      <td>MEDICAL</td>\n",
       "      <td>395</td>\n",
       "    </tr>\n",
       "  </tbody>\n",
       "</table>\n",
       "</div>"
      ],
      "text/plain": [
       "col_0  Category  Jumlah\n",
       "0        FAMILY    1832\n",
       "1          GAME     959\n",
       "2         TOOLS     827\n",
       "3      BUSINESS     420\n",
       "4       MEDICAL     395"
      ]
     },
     "execution_count": 98,
     "metadata": {},
     "output_type": "execute_result"
    }
   ],
   "source": [
    "top_category.head()"
   ]
  },
  {
   "cell_type": "markdown",
   "metadata": {},
   "source": [
    "**_Task 6:_** Ini adalah bagian untuk melengkapi konten value box \n",
    "most category mengambil nama category paling banyak mengacu pada dataframe `top_category`\n",
    "total mengambil frekuensi/jumlah category paling banyak mengacu pada dataframe `top_category`"
   ]
  },
  {
   "cell_type": "code",
   "execution_count": 99,
   "metadata": {
    "ExecuteTime": {
     "end_time": "2021-02-02T10:25:55.268573Z",
     "start_time": "2021-02-02T10:25:55.257944Z"
    }
   },
   "outputs": [],
   "source": [
    "most_categories = top_category.iloc[0,0]\n",
    "total = top_category.iloc[0,1]"
   ]
  },
  {
   "cell_type": "markdown",
   "metadata": {},
   "source": [
    "`rev_table` adalah tabel yang berisi 10 aplikasi yang paling banyak direview oleh pengguna.\n",
    "Silahkan melakukan agregasi data yang tepat menggunakan `groupby` untuk menampilkan 10 aplikasi yang diurutkan berdasarkan jumlah Review pengguna. \n",
    "\n",
    "Tabel yang ditampilkan terdiri dari 4 kolom yaitu nama Category, nama App, total Reviews, dan rata-rata Rating.\n",
    "Pindahkan kode wrangling yang disimpan dalam variable `rev_table` pada `blank code` yang telah di chaining dengan kode `.to_html`."
   ]
  },
  {
   "cell_type": "code",
   "execution_count": 100,
   "metadata": {
    "ExecuteTime": {
     "end_time": "2021-02-02T10:32:27.727779Z",
     "start_time": "2021-02-02T10:32:24.299980Z"
    }
   },
   "outputs": [],
   "source": [
    "rev_table = df2.groupby(['Category','App']).agg(Reviews=('Reviews', np.sum), \n",
    "                                    Rating=('Rating', np.mean)).\\\n",
    "                                            reset_index().sort_values('Reviews', \n",
    "                                                                      ascending=False).head(10).reset_index(drop=True).astype({'Reviews':float})"
   ]
  },
  {
   "cell_type": "code",
   "execution_count": 101,
   "metadata": {},
   "outputs": [
    {
     "data": {
      "text/html": [
       "<div>\n",
       "<style scoped>\n",
       "    .dataframe tbody tr th:only-of-type {\n",
       "        vertical-align: middle;\n",
       "    }\n",
       "\n",
       "    .dataframe tbody tr th {\n",
       "        vertical-align: top;\n",
       "    }\n",
       "\n",
       "    .dataframe thead th {\n",
       "        text-align: right;\n",
       "    }\n",
       "</style>\n",
       "<table border=\"1\" class=\"dataframe\">\n",
       "  <thead>\n",
       "    <tr style=\"text-align: right;\">\n",
       "      <th></th>\n",
       "      <th>Category</th>\n",
       "      <th>App</th>\n",
       "      <th>Reviews</th>\n",
       "      <th>Rating</th>\n",
       "    </tr>\n",
       "  </thead>\n",
       "  <tbody>\n",
       "    <tr>\n",
       "      <th>0</th>\n",
       "      <td>SOCIAL</td>\n",
       "      <td>Facebook</td>\n",
       "      <td>78158306.0</td>\n",
       "      <td>4.1</td>\n",
       "    </tr>\n",
       "    <tr>\n",
       "      <th>1</th>\n",
       "      <td>COMMUNICATION</td>\n",
       "      <td>WhatsApp Messenger</td>\n",
       "      <td>69119316.0</td>\n",
       "      <td>4.4</td>\n",
       "    </tr>\n",
       "    <tr>\n",
       "      <th>2</th>\n",
       "      <td>SOCIAL</td>\n",
       "      <td>Instagram</td>\n",
       "      <td>66577313.0</td>\n",
       "      <td>4.5</td>\n",
       "    </tr>\n",
       "    <tr>\n",
       "      <th>3</th>\n",
       "      <td>COMMUNICATION</td>\n",
       "      <td>Messenger – Text and Video Chat for Free</td>\n",
       "      <td>56642847.0</td>\n",
       "      <td>4.0</td>\n",
       "    </tr>\n",
       "    <tr>\n",
       "      <th>4</th>\n",
       "      <td>GAME</td>\n",
       "      <td>Clash of Clans</td>\n",
       "      <td>44891723.0</td>\n",
       "      <td>4.6</td>\n",
       "    </tr>\n",
       "    <tr>\n",
       "      <th>5</th>\n",
       "      <td>TOOLS</td>\n",
       "      <td>Clean Master- Space Cleaner &amp; Antivirus</td>\n",
       "      <td>42916526.0</td>\n",
       "      <td>4.7</td>\n",
       "    </tr>\n",
       "    <tr>\n",
       "      <th>6</th>\n",
       "      <td>GAME</td>\n",
       "      <td>Subway Surfers</td>\n",
       "      <td>27722264.0</td>\n",
       "      <td>4.5</td>\n",
       "    </tr>\n",
       "    <tr>\n",
       "      <th>7</th>\n",
       "      <td>VIDEO_PLAYERS</td>\n",
       "      <td>YouTube</td>\n",
       "      <td>25655305.0</td>\n",
       "      <td>4.3</td>\n",
       "    </tr>\n",
       "    <tr>\n",
       "      <th>8</th>\n",
       "      <td>TOOLS</td>\n",
       "      <td>Security Master - Antivirus, VPN, AppLock, Boo...</td>\n",
       "      <td>24900999.0</td>\n",
       "      <td>4.7</td>\n",
       "    </tr>\n",
       "    <tr>\n",
       "      <th>9</th>\n",
       "      <td>GAME</td>\n",
       "      <td>Clash Royale</td>\n",
       "      <td>23133508.0</td>\n",
       "      <td>4.6</td>\n",
       "    </tr>\n",
       "  </tbody>\n",
       "</table>\n",
       "</div>"
      ],
      "text/plain": [
       "        Category                                                App  \\\n",
       "0         SOCIAL                                           Facebook   \n",
       "1  COMMUNICATION                                 WhatsApp Messenger   \n",
       "2         SOCIAL                                          Instagram   \n",
       "3  COMMUNICATION           Messenger – Text and Video Chat for Free   \n",
       "4           GAME                                     Clash of Clans   \n",
       "5          TOOLS            Clean Master- Space Cleaner & Antivirus   \n",
       "6           GAME                                     Subway Surfers   \n",
       "7  VIDEO_PLAYERS                                            YouTube   \n",
       "8          TOOLS  Security Master - Antivirus, VPN, AppLock, Boo...   \n",
       "9           GAME                                       Clash Royale   \n",
       "\n",
       "      Reviews  Rating  \n",
       "0  78158306.0     4.1  \n",
       "1  69119316.0     4.4  \n",
       "2  66577313.0     4.5  \n",
       "3  56642847.0     4.0  \n",
       "4  44891723.0     4.6  \n",
       "5  42916526.0     4.7  \n",
       "6  27722264.0     4.5  \n",
       "7  25655305.0     4.3  \n",
       "8  24900999.0     4.7  \n",
       "9  23133508.0     4.6  "
      ]
     },
     "execution_count": 101,
     "metadata": {},
     "output_type": "execute_result"
    }
   ],
   "source": [
    "rev_table"
   ]
  },
  {
   "cell_type": "markdown",
   "metadata": {},
   "source": [
    "Apabila menuliskan kode program yang tepat maka hasil wrangling adalah sebagai berikut :"
   ]
  },
  {
   "cell_type": "code",
   "execution_count": 102,
   "metadata": {
    "ExecuteTime": {
     "end_time": "2021-02-02T10:32:37.483995Z",
     "start_time": "2021-02-02T10:32:37.467075Z"
    }
   },
   "outputs": [
    {
     "data": {
      "text/html": [
       "<div>\n",
       "<style scoped>\n",
       "    .dataframe tbody tr th:only-of-type {\n",
       "        vertical-align: middle;\n",
       "    }\n",
       "\n",
       "    .dataframe tbody tr th {\n",
       "        vertical-align: top;\n",
       "    }\n",
       "\n",
       "    .dataframe thead th {\n",
       "        text-align: right;\n",
       "    }\n",
       "</style>\n",
       "<table border=\"1\" class=\"dataframe\">\n",
       "  <thead>\n",
       "    <tr style=\"text-align: right;\">\n",
       "      <th></th>\n",
       "      <th>Category</th>\n",
       "      <th>App</th>\n",
       "      <th>Reviews</th>\n",
       "      <th>Rating</th>\n",
       "    </tr>\n",
       "  </thead>\n",
       "  <tbody>\n",
       "    <tr>\n",
       "      <th>0</th>\n",
       "      <td>SOCIAL</td>\n",
       "      <td>Facebook</td>\n",
       "      <td>78158306.0</td>\n",
       "      <td>4.1</td>\n",
       "    </tr>\n",
       "    <tr>\n",
       "      <th>1</th>\n",
       "      <td>COMMUNICATION</td>\n",
       "      <td>WhatsApp Messenger</td>\n",
       "      <td>69119316.0</td>\n",
       "      <td>4.4</td>\n",
       "    </tr>\n",
       "    <tr>\n",
       "      <th>2</th>\n",
       "      <td>SOCIAL</td>\n",
       "      <td>Instagram</td>\n",
       "      <td>66577313.0</td>\n",
       "      <td>4.5</td>\n",
       "    </tr>\n",
       "    <tr>\n",
       "      <th>3</th>\n",
       "      <td>COMMUNICATION</td>\n",
       "      <td>Messenger – Text and Video Chat for Free</td>\n",
       "      <td>56642847.0</td>\n",
       "      <td>4.0</td>\n",
       "    </tr>\n",
       "    <tr>\n",
       "      <th>4</th>\n",
       "      <td>GAME</td>\n",
       "      <td>Clash of Clans</td>\n",
       "      <td>44891723.0</td>\n",
       "      <td>4.6</td>\n",
       "    </tr>\n",
       "    <tr>\n",
       "      <th>5</th>\n",
       "      <td>TOOLS</td>\n",
       "      <td>Clean Master- Space Cleaner &amp; Antivirus</td>\n",
       "      <td>42916526.0</td>\n",
       "      <td>4.7</td>\n",
       "    </tr>\n",
       "    <tr>\n",
       "      <th>6</th>\n",
       "      <td>GAME</td>\n",
       "      <td>Subway Surfers</td>\n",
       "      <td>27722264.0</td>\n",
       "      <td>4.5</td>\n",
       "    </tr>\n",
       "    <tr>\n",
       "      <th>7</th>\n",
       "      <td>VIDEO_PLAYERS</td>\n",
       "      <td>YouTube</td>\n",
       "      <td>25655305.0</td>\n",
       "      <td>4.3</td>\n",
       "    </tr>\n",
       "    <tr>\n",
       "      <th>8</th>\n",
       "      <td>TOOLS</td>\n",
       "      <td>Security Master - Antivirus, VPN, AppLock, Boo...</td>\n",
       "      <td>24900999.0</td>\n",
       "      <td>4.7</td>\n",
       "    </tr>\n",
       "    <tr>\n",
       "      <th>9</th>\n",
       "      <td>GAME</td>\n",
       "      <td>Clash Royale</td>\n",
       "      <td>23133508.0</td>\n",
       "      <td>4.6</td>\n",
       "    </tr>\n",
       "  </tbody>\n",
       "</table>\n",
       "</div>"
      ],
      "text/plain": [
       "        Category                                                App  \\\n",
       "0         SOCIAL                                           Facebook   \n",
       "1  COMMUNICATION                                 WhatsApp Messenger   \n",
       "2         SOCIAL                                          Instagram   \n",
       "3  COMMUNICATION           Messenger – Text and Video Chat for Free   \n",
       "4           GAME                                     Clash of Clans   \n",
       "5          TOOLS            Clean Master- Space Cleaner & Antivirus   \n",
       "6           GAME                                     Subway Surfers   \n",
       "7  VIDEO_PLAYERS                                            YouTube   \n",
       "8          TOOLS  Security Master - Antivirus, VPN, AppLock, Boo...   \n",
       "9           GAME                                       Clash Royale   \n",
       "\n",
       "      Reviews  Rating  \n",
       "0  78158306.0     4.1  \n",
       "1  69119316.0     4.4  \n",
       "2  66577313.0     4.5  \n",
       "3  56642847.0     4.0  \n",
       "4  44891723.0     4.6  \n",
       "5  42916526.0     4.7  \n",
       "6  27722264.0     4.5  \n",
       "7  25655305.0     4.3  \n",
       "8  24900999.0     4.7  \n",
       "9  23133508.0     4.6  "
      ]
     },
     "execution_count": 102,
     "metadata": {},
     "output_type": "execute_result"
    }
   ],
   "source": [
    "rev_table"
   ]
  },
  {
   "cell_type": "markdown",
   "metadata": {},
   "source": [
    "## Data Visualization"
   ]
  },
  {
   "cell_type": "markdown",
   "metadata": {},
   "source": [
    "**Membuat Bar Plot**"
   ]
  },
  {
   "cell_type": "markdown",
   "metadata": {},
   "source": [
    "**_Task 7:_** \n",
    "Lengkapi tahap agregasi untuk membuat dataframe yang mengelompokkan aplikasi berdasarkan Category.\n",
    "Buatlah bar plot dimana axis x adalah nama Category dan axis y adalah jumlah aplikasi pada setiap kategori, kemudian urutkan dari jumlah terbanyak"
   ]
  },
  {
   "cell_type": "code",
   "execution_count": 103,
   "metadata": {},
   "outputs": [
    {
     "data": {
      "text/html": [
       "<div>\n",
       "<style scoped>\n",
       "    .dataframe tbody tr th:only-of-type {\n",
       "        vertical-align: middle;\n",
       "    }\n",
       "\n",
       "    .dataframe tbody tr th {\n",
       "        vertical-align: top;\n",
       "    }\n",
       "\n",
       "    .dataframe thead th {\n",
       "        text-align: right;\n",
       "    }\n",
       "</style>\n",
       "<table border=\"1\" class=\"dataframe\">\n",
       "  <thead>\n",
       "    <tr style=\"text-align: right;\">\n",
       "      <th></th>\n",
       "      <th>Total</th>\n",
       "    </tr>\n",
       "    <tr>\n",
       "      <th>Category</th>\n",
       "      <th></th>\n",
       "    </tr>\n",
       "  </thead>\n",
       "  <tbody>\n",
       "    <tr>\n",
       "      <th>FAMILY</th>\n",
       "      <td>1832</td>\n",
       "    </tr>\n",
       "    <tr>\n",
       "      <th>GAME</th>\n",
       "      <td>959</td>\n",
       "    </tr>\n",
       "    <tr>\n",
       "      <th>TOOLS</th>\n",
       "      <td>827</td>\n",
       "    </tr>\n",
       "    <tr>\n",
       "      <th>BUSINESS</th>\n",
       "      <td>420</td>\n",
       "    </tr>\n",
       "    <tr>\n",
       "      <th>MEDICAL</th>\n",
       "      <td>395</td>\n",
       "    </tr>\n",
       "  </tbody>\n",
       "</table>\n",
       "</div>"
      ],
      "text/plain": [
       "          Total\n",
       "Category       \n",
       "FAMILY     1832\n",
       "GAME        959\n",
       "TOOLS       827\n",
       "BUSINESS    420\n",
       "MEDICAL     395"
      ]
     },
     "execution_count": 103,
     "metadata": {},
     "output_type": "execute_result"
    }
   ],
   "source": [
    "cat_order = df2.groupby('Category').agg({'Category' : 'count'}).\\\n",
    "    rename({'Category':'Total'}, axis=1).sort_values('Total', ascending=False).head()\n",
    "\n",
    "cat_order"
   ]
  },
  {
   "cell_type": "code",
   "execution_count": 104,
   "metadata": {
    "ExecuteTime": {
     "end_time": "2021-02-02T10:37:53.665508Z",
     "start_time": "2021-02-02T10:37:52.980775Z"
    }
   },
   "outputs": [
    {
     "data": {
      "image/png": "[encoded data removed]",
      "text/plain": [
       "<Figure size 2400x900 with 1 Axes>"
      ]
     },
     "metadata": {},
     "output_type": "display_data"
    }
   ],
   "source": [
    "cat_order = df2.groupby('Category').agg({'Category' : 'count'}).\\\n",
    "    rename({'Category':'Total'}, axis=1).sort_values('Total', ascending=False).head()\n",
    "X = cat_order.index\n",
    "Y = cat_order['Total'].values\n",
    "my_colors = ['r','g','b','k','y','m','c']\n",
    "# bagian ini digunakan untuk membuat kanvas/figure\n",
    "fig = plt.figure(figsize=(8,3),dpi=300)\n",
    "fig.add_subplot()\n",
    "# bagian ini digunakan untuk membuat bar plot\n",
    "plt.barh(X,Y, color=my_colors)\n",
    "# bagian ini digunakan untuk menyimpan plot dalam format image.png\n",
    "plt.savefig('cat_order_baru.png',bbox_inches=\"tight\") "
   ]
  },
  {
   "cell_type": "markdown",
   "metadata": {},
   "source": [
    "**Membuat Scatter Plot**"
   ]
  },
  {
   "cell_type": "markdown",
   "metadata": {},
   "source": [
    "**_Task 8:_** Buatlah scatter plot untuk menampilkan hubungan dan persebaran apalikasi dilihat dari Review vs Rating.\n",
    "Ukuran scatter menggambarkan berapa banyak pengguna yang telah menginstall aplikasi \n",
    "    "
   ]
  },
  {
   "cell_type": "code",
   "execution_count": 105,
   "metadata": {},
   "outputs": [
    {
     "name": "stdout",
     "output_type": "stream",
     "text": [
      "<class 'pandas.core.frame.DataFrame'>\n",
      "Int64Index: 9659 entries, 0 to 10840\n",
      "Data columns (total 13 columns):\n",
      " #   Column          Non-Null Count  Dtype   \n",
      "---  ------          --------------  -----   \n",
      " 0   App             9659 non-null   object  \n",
      " 1   Category        9659 non-null   category\n",
      " 2   Rating          8196 non-null   float64 \n",
      " 3   Reviews         9659 non-null   int64   \n",
      " 4   Size            9659 non-null   float64 \n",
      " 5   Installs        9659 non-null   int32   \n",
      " 6   Type            9658 non-null   object  \n",
      " 7   Price           9659 non-null   float64 \n",
      " 8   Content Rating  9659 non-null   object  \n",
      " 9   Genres          9659 non-null   object  \n",
      " 10  Last Updated    9659 non-null   object  \n",
      " 11  Current Ver     9651 non-null   object  \n",
      " 12  Android Ver     9657 non-null   object  \n",
      "dtypes: category(1), float64(3), int32(1), int64(1), object(7)\n",
      "memory usage: 954.0+ KB\n"
     ]
    }
   ],
   "source": [
    "df2.info()"
   ]
  },
  {
   "cell_type": "code",
   "execution_count": 106,
   "metadata": {
    "ExecuteTime": {
     "end_time": "2021-02-02T10:41:20.616033Z",
     "start_time": "2021-02-02T10:41:20.149283Z"
    },
    "scrolled": true
   },
   "outputs": [
    {
     "data": {
      "image/png": "[encoded data removed]",
      "text/plain": [
       "<Figure size 500x500 with 1 Axes>"
      ]
     },
     "metadata": {},
     "output_type": "display_data"
    }
   ],
   "source": [
    "X = df2['Reviews'].values # axis x\n",
    "Y = df2['Rating'].values # axis y\n",
    "area = playstore['Installs'].values/10000000 # ukuran besar/kecilnya lingkaran scatter plot\n",
    "fig = plt.figure(figsize=(5,5))\n",
    "fig.add_subplot()\n",
    "# isi nama method untuk scatter plot, variabel x, dan variabel y\n",
    "plt.scatter(x=X,y=Y, s=area, alpha=0.3)\n",
    "plt.xlabel('Reviews')\n",
    "plt.ylabel('Rating')\n",
    "plt.savefig('rev_rat_baru.png',bbox_inches=\"tight\")"
   ]
  },
  {
   "cell_type": "markdown",
   "metadata": {},
   "source": [
    "**Membuat Histogram Size Distribution**"
   ]
  },
  {
   "cell_type": "markdown",
   "metadata": {},
   "source": [
    "**_Task 9:_** Buatlah sebuah histogram yang menggambarkan distribusi Size aplikasi dalam satuan Mb(Megabytes). Histogram yang terbentuk terbagi menjadi 100 bins"
   ]
  },
  {
   "cell_type": "code",
   "execution_count": 107,
   "metadata": {
    "ExecuteTime": {
     "end_time": "2021-02-02T10:44:25.038732Z",
     "start_time": "2021-02-02T10:44:24.670174Z"
    },
    "scrolled": true
   },
   "outputs": [
    {
     "data": {
      "image/png": "[encoded data removed]",
      "text/plain": [
       "<Figure size 500x500 with 1 Axes>"
      ]
     },
     "metadata": {},
     "output_type": "display_data"
    }
   ],
   "source": [
    "X=(df2.Size/1000000).values\n",
    "fig = plt.figure(figsize=(5,5))\n",
    "fig.add_subplot()\n",
    "plt.hist(X,bins=100, density=True,  alpha=0.75)\n",
    "plt.xlabel('Size')\n",
    "plt.ylabel('Frequency')\n",
    "plt.savefig('hist_size_baru.png',bbox_inches=\"tight\")"
   ]
  },
  {
   "cell_type": "markdown",
   "metadata": {},
   "source": [
    "**_Task 10:_** Buatlah plot berdasarkan hasil analisis anda. Plot yang dibuat tidak diperbolehkan sama dengan plot yang sudah dicontohkan."
   ]
  },
  {
   "cell_type": "code",
   "execution_count": 112,
   "metadata": {
    "ExecuteTime": {
     "end_time": "2021-02-02T10:47:53.948656Z",
     "start_time": "2021-02-02T10:47:53.936544Z"
    }
   },
   "outputs": [
    {
     "data": {
      "image/png": "[encoded data removed]",
      "text/plain": [
       "<Figure size 600x600 with 1 Axes>"
      ]
     },
     "metadata": {},
     "output_type": "display_data"
    }
   ],
   "source": [
    "## code here\n",
    "X = df2['Rating'].values # axis x\n",
    "Y = df2['Size'].values # axis y\n",
    "area = playstore['Installs'].values/10000000 # ukuran besar/kecilnya lingkaran scatter plot\n",
    "fig = plt.figure(figsize=(6,6))\n",
    "fig.add_subplot()\n",
    "# isi nama method untuk scatter plot, variabel x, dan variabel y\n",
    "plt.scatter(x=X,y=Y, s=area, alpha=0.5, cmap='PuBuGn')\n",
    "plt.xlabel('Rating')\n",
    "plt.ylabel('Ukuran')\n",
    "\n",
    "plt.savefig('rev_ukuranXRating_baru.png',bbox_inches=\"tight\")"
   ]
  },
  {
   "cell_type": "code",
   "execution_count": null,
   "metadata": {},
   "outputs": [],
   "source": []
  }
 ],
 "metadata": {
  "kernelspec": {
   "display_name": "capstone-flask",
   "language": "python",
   "name": "capstone-flask"
  },
  "language_info": {
   "codemirror_mode": {
    "name": "ipython",
    "version": 3
   },
   "file_extension": ".py",
   "mimetype": "text/x-python",
   "name": "python",
   "nbconvert_exporter": "python",
   "pygments_lexer": "ipython3",
   "version": "3.10.10"
  },
  "toc": {
   "base_numbering": 1,
   "nav_menu": {},
   "number_sections": true,
   "sideBar": true,
   "skip_h1_title": false,
   "title_cell": "Table of Contents",
   "title_sidebar": "Contents",
   "toc_cell": false,
   "toc_position": {},
   "toc_section_display": true,
   "toc_window_display": false
  }
 },
 "nbformat": 4,
 "nbformat_minor": 4
}
